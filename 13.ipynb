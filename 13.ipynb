{
 "cells": [
  {
   "cell_type": "markdown",
   "metadata": {},
   "source": [
    "## 13й вопрос\n",
    "**Вещественные числа. Представление.Использование. Операции. Математические библиотеки.**"
   ]
  },
  {
   "cell_type": "code",
   "execution_count": 27,
   "metadata": {},
   "outputs": [
    {
     "data": {
      "text/plain": [
       "10.0"
      ]
     },
     "execution_count": 27,
     "metadata": {},
     "output_type": "execute_result"
    }
   ],
   "source": [
    "# вещественные числа в python - flaot\n",
    "fl = float(10)\n",
    "fl # представление число с дробной частью в десятичном представлении, записанной через точку"
   ]
  },
  {
   "cell_type": "code",
   "execution_count": 28,
   "metadata": {},
   "outputs": [
    {
     "data": {
      "text/plain": [
       "7.029224708315989"
      ]
     },
     "execution_count": 28,
     "metadata": {},
     "output_type": "execute_result"
    }
   ],
   "source": [
    "# using\n",
    "a = ((4.5)**2 + (5.4)**2)**0.5\n",
    "a # для расчета по формулам (небольшая точность)"
   ]
  },
  {
   "cell_type": "code",
   "execution_count": 29,
   "metadata": {},
   "outputs": [
    {
     "data": {
      "text/plain": [
       "False"
      ]
     },
     "execution_count": 29,
     "metadata": {},
     "output_type": "execute_result"
    }
   ],
   "source": [
    "0.1 + 0.1 + 0.1 == 0.3 # this is python floats (often problem in programming languages)."
   ]
  },
  {
   "cell_type": "code",
   "execution_count": 46,
   "metadata": {},
   "outputs": [
    {
     "name": "stdout",
     "output_type": "stream",
     "text": [
      "7\n",
      "-1\n",
      "7.029225\n",
      "7.02922\n",
      "1.23\n",
      "7\n",
      "0.33333333333333337\n",
      "0.5403023058681398\n",
      "0.49999999999999994\n"
     ]
    }
   ],
   "source": [
    "import math\n",
    "print(math.floor(a)) # всегда вниз\n",
    "print(math.floor(-0.001)) # всегда вниз\n",
    "print(round(a, 6)) \n",
    "print(f\"{a:.5f}\") # тоже имеет место быть\n",
    "print(abs(-1.23)) # модуль\n",
    "print(math.trunc(a)) # обрезает дробную часть\n",
    "print(math.log(2, 8)) # логарифм\n",
    "print(math.cos(1.0)) # косинус в радианах\n",
    "print(math.sin(math.radians(30.0))) # синус в градусах (ахаах float полетел)"
   ]
  },
  {
   "cell_type": "code",
   "execution_count": 48,
   "metadata": {},
   "outputs": [
    {
     "data": {
      "text/plain": [
       "True"
      ]
     },
     "execution_count": 48,
     "metadata": {},
     "output_type": "execute_result"
    }
   ],
   "source": [
    "# фикс ошибки float\n",
    "from decimal import Decimal\n",
    "\n",
    "dec = Decimal(\"0.1\")\n",
    "\n",
    "dec + dec + dec == Decimal(\"0.3\") # Победа!"
   ]
  },
  {
   "cell_type": "code",
   "execution_count": null,
   "metadata": {},
   "outputs": [],
   "source": []
  }
 ],
 "metadata": {
  "interpreter": {
   "hash": "e7370f93d1d0cde622a1f8e1c04877d8463912d04d973331ad4851f04de6915a"
  },
  "kernelspec": {
   "display_name": "Python 3.10.4 64-bit",
   "language": "python",
   "name": "python3"
  },
  "language_info": {
   "codemirror_mode": {
    "name": "ipython",
    "version": 3
   },
   "file_extension": ".py",
   "mimetype": "text/x-python",
   "name": "python",
   "nbconvert_exporter": "python",
   "pygments_lexer": "ipython3",
   "version": "3.10.4"
  },
  "orig_nbformat": 4
 },
 "nbformat": 4,
 "nbformat_minor": 2
}
