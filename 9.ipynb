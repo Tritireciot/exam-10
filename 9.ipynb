{
 "cells": [
  {
   "cell_type": "markdown",
   "metadata": {},
   "source": [
    "## 9й вопрос\n",
    "**Консольный ввод/вывод. Форматный ввод/вывод.  На примере изученных языков программирования.**"
   ]
  },
  {
   "cell_type": "code",
   "execution_count": 1,
   "metadata": {},
   "outputs": [
    {
     "name": "stdout",
     "output_type": "stream",
     "text": [
      "test\n"
     ]
    }
   ],
   "source": [
    "# is it a joke? ok..\n",
    "\n",
    "a = input() # in default input is string\n",
    "\n",
    "print(a)\n"
   ]
  },
  {
   "cell_type": "code",
   "execution_count": 3,
   "metadata": {},
   "outputs": [
    {
     "name": "stdout",
     "output_type": "stream",
     "text": [
      "Me too\n"
     ]
    }
   ],
   "source": [
    "hello_to_user = input(\"Hello, how are you?\\n\") # not working in jupyter :(\n",
    "\n",
    "if hello_to_user == \"cool\":\n",
    "    print(\"Me too\")\n",
    "else:\n",
    "    print(\"I'm good\")"
   ]
  },
  {
   "cell_type": "code",
   "execution_count": 4,
   "metadata": {},
   "outputs": [
    {
     "name": "stdout",
     "output_type": "stream",
     "text": [
      "first part\n",
      "second part\n"
     ]
    }
   ],
   "source": [
    "print(\"first part\", \"second part\", sep=\"\\n\") # sep - separation (разделение между словами); default=\" \""
   ]
  },
  {
   "cell_type": "code",
   "execution_count": 5,
   "metadata": {},
   "outputs": [
    {
     "name": "stdout",
     "output_type": "stream",
     "text": [
      "first part; second part\n"
     ]
    }
   ],
   "source": [
    "print(\"first part\", end=\"; \") # end - ending of print (default=\"\\n\")\n",
    "print(\"second part\")"
   ]
  },
  {
   "cell_type": "code",
   "execution_count": 9,
   "metadata": {},
   "outputs": [
    {
     "name": "stdout",
     "output_type": "stream",
     "text": [
      "format output, which called in python - f-sting\n",
      "for example first = 425.2242\n",
      "rounded first = 425.22\n",
      "this is second - 3ge, but capitalized\n"
     ]
    }
   ],
   "source": [
    "first = float(input())\n",
    "second = input()\n",
    "\n",
    "print(\"format output, which called in python - f-sting\")\n",
    "print(f\"for example first = {first}\")\n",
    "print(f\"rounded first = {first:.2f}\")\n",
    "print(f\"this is second - {second.capitalize()}, but capitalized\")"
   ]
  },
  {
   "cell_type": "code",
   "execution_count": null,
   "metadata": {},
   "outputs": [],
   "source": []
  },
  {
   "cell_type": "code",
   "execution_count": null,
   "metadata": {},
   "outputs": [],
   "source": []
  }
 ],
 "metadata": {
  "interpreter": {
   "hash": "e7370f93d1d0cde622a1f8e1c04877d8463912d04d973331ad4851f04de6915a"
  },
  "kernelspec": {
   "display_name": "Python 3.10.4 64-bit",
   "language": "python",
   "name": "python3"
  },
  "language_info": {
   "codemirror_mode": {
    "name": "ipython",
    "version": 3
   },
   "file_extension": ".py",
   "mimetype": "text/x-python",
   "name": "python",
   "nbconvert_exporter": "python",
   "pygments_lexer": "ipython3",
   "version": "3.10.4"
  },
  "orig_nbformat": 4
 },
 "nbformat": 4,
 "nbformat_minor": 2
}
