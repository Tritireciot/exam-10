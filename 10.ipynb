{
 "cells": [
  {
   "cell_type": "markdown",
   "metadata": {},
   "source": [
    "## 10й вопрос\n",
    "**Файловый ввод/вывод. На примере изученных языков программирования.** "
   ]
  },
  {
   "cell_type": "code",
   "execution_count": 11,
   "metadata": {},
   "outputs": [
    {
     "data": {
      "text/plain": [
       "'# Это информация к зачету по информатике\\n\\n## Чтобы все хорошо работало необходимо:\\n\\n### 1й вариант\\n\\nСкачать jupyter-lab\\n```sh\\npip install jupyterlab\\n```\\nЗапустить jupyter lab в этой папке\\n```\\njupyter-lab\\n```\\n\\n### 2й вариант\\nОткрыть реп в Visual Studio Code (или PyCharm, вроде тоже поддержка есть) и выполнить все требования по установке\\n\\n---\\n\\n``Готовиться к зачету :)``\\n'"
      ]
     },
     "execution_count": 11,
     "metadata": {},
     "output_type": "execute_result"
    }
   ],
   "source": [
    "# again.. ok.......\n",
    "\n",
    "file = open(\"README.md\") # first argument - file path. second - opening mode\n",
    "file.read()"
   ]
  },
  {
   "cell_type": "code",
   "execution_count": 12,
   "metadata": {},
   "outputs": [],
   "source": [
    "file.close() # you must close file!!"
   ]
  },
  {
   "cell_type": "code",
   "execution_count": 13,
   "metadata": {},
   "outputs": [],
   "source": [
    "# ok. let's go next case\n",
    "\n",
    "with open(\"test.txt\", \"w\") as writer: # it's a context manager (можете почитать в гугле, если интересно поподробнее)\n",
    "    writer.write(\"Test writing something\") # and check it out\n",
    "# file closes automaticly"
   ]
  },
  {
   "cell_type": "code",
   "execution_count": 14,
   "metadata": {},
   "outputs": [],
   "source": [
    "with open(\"test.txt\", \"a\") as appending:\n",
    "    appending.write(\"\\nThis is appends\")"
   ]
  },
  {
   "cell_type": "code",
   "execution_count": 15,
   "metadata": {},
   "outputs": [
    {
     "name": "stdout",
     "output_type": "stream",
     "text": [
      "Test writing something\n",
      "This is appends\n"
     ]
    }
   ],
   "source": [
    "with open(\"test.txt\", \"r+\") as redacting:\n",
    "    print(redacting.read())\n",
    "    redacting.write(\"\\nAdd string at the end\") # because we read file, and our pointer at the end of the file"
   ]
  },
  {
   "cell_type": "code",
   "execution_count": null,
   "metadata": {},
   "outputs": [],
   "source": []
  }
 ],
 "metadata": {
  "interpreter": {
   "hash": "e7370f93d1d0cde622a1f8e1c04877d8463912d04d973331ad4851f04de6915a"
  },
  "kernelspec": {
   "display_name": "Python 3.10.4 64-bit",
   "language": "python",
   "name": "python3"
  },
  "language_info": {
   "codemirror_mode": {
    "name": "ipython",
    "version": 3
   },
   "file_extension": ".py",
   "mimetype": "text/x-python",
   "name": "python",
   "nbconvert_exporter": "python",
   "pygments_lexer": "ipython3",
   "version": "3.10.4"
  },
  "orig_nbformat": 4
 },
 "nbformat": 4,
 "nbformat_minor": 2
}
