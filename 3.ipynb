{
 "cells": [
  {
   "cell_type": "markdown",
   "metadata": {},
   "source": [
    "## 3й вопрос\n",
    "\n",
    "**Операции. Приоритеты операций. Выражения. Арифметические операции. Операция присваивания. Построение условий. Операции над логическими данными.  На примере изученных языков программирования.**"
   ]
  },
  {
   "cell_type": "markdown",
   "metadata": {},
   "source": [
    "<img src=\"https://avatars.mds.yandex.net/get-zen_doc/1925603/pub_5d24618da1b4f100ad7cd4e7_5d246e6031878200adb4ee73/scale_1200\" width=\"25%\">"
   ]
  },
  {
   "cell_type": "markdown",
   "metadata": {},
   "source": [
    "<img src=\"https://mypresentation.ru/documents_6/61cacf2ebdfea9c72a274f3b00c8a8dd/img28.jpg\" width=\"25%\">"
   ]
  },
  {
   "cell_type": "code",
   "execution_count": 6,
   "metadata": {},
   "outputs": [
    {
     "name": "stdout",
     "output_type": "stream",
     "text": [
      "2\n",
      "1\n",
      "0.5\n",
      "3.0\n",
      "1.0\n",
      "1.0\n",
      "1\n"
     ]
    }
   ],
   "source": [
    "# Ну там попросили арифметические операции, вот:\n",
    "\n",
    "a = 1\n",
    "\n",
    "a += 1\n",
    "print(a)\n",
    "\n",
    "a -=1\n",
    "print(a)\n",
    "\n",
    "a /=2\n",
    "print(a)\n",
    "\n",
    "a *= 6\n",
    "print(a)\n",
    "\n",
    "a //=2\n",
    "print(a)\n",
    "\n",
    "a %= 10\n",
    "print(a)\n",
    "\n",
    "print(0**0) # больше единичек"
   ]
  },
  {
   "cell_type": "code",
   "execution_count": 12,
   "metadata": {},
   "outputs": [
    {
     "name": "stdout",
     "output_type": "stream",
     "text": [
      "True\n",
      "False\n",
      "True\n",
      "False\n",
      "True\n",
      "True\n",
      "False\n"
     ]
    }
   ],
   "source": [
    "# Ну там попросили логические операции, вот:\n",
    "\n",
    "print(a == 1)\n",
    "\n",
    "print(a < 1)\n",
    "\n",
    "print(a <= 1)\n",
    "\n",
    "print(a > 1)\n",
    "\n",
    "print(a >= 1)\n",
    "\n",
    "print(bool(a))\n",
    "print(bool(0))\n"
   ]
  },
  {
   "cell_type": "code",
   "execution_count": 24,
   "metadata": {},
   "outputs": [
    {
     "name": "stdout",
     "output_type": "stream",
     "text": [
      "True\n",
      "True\n",
      "0\n",
      "Hello world\n"
     ]
    }
   ],
   "source": [
    "# print(a <> 1) так в питоне делать нельзя\n",
    "print(a != 0) # а вот так нужно\n",
    "\n",
    "print(not(0))\n",
    "\n",
    "print(1 and 0) # а че так можно было что ли??!!\n",
    "\n",
    "print([] or \"Hello world\") # тк для питона пустые переменные (например {}, [], \"\", 0) это False"
   ]
  },
  {
   "cell_type": "code",
   "execution_count": 32,
   "metadata": {},
   "outputs": [
    {
     "name": "stdout",
     "output_type": "stream",
     "text": [
      "True\n",
      "True\n",
      "True\n",
      "False\n",
      "False\n"
     ]
    }
   ],
   "source": [
    "ъ = [1, 2, 3, 4, 5] # кто понял, тот понял\n",
    "\n",
    "ь = 3\n",
    "\n",
    "print(ь in ъ)\n",
    "\n",
    "print(\"не в списке\" not in ъ)\n",
    "\n",
    "print(\"проверим словарь\" in {\"проверим словарь\": []})\n",
    "\n",
    "print([] is None)\n",
    "print(None is not None)"
   ]
  },
  {
   "cell_type": "code",
   "execution_count": 33,
   "metadata": {},
   "outputs": [
    {
     "data": {
      "text/plain": [
       "True"
      ]
     },
     "execution_count": 33,
     "metadata": {},
     "output_type": "execute_result"
    }
   ],
   "source": [
    "# но для проверки типов лучше такую штуку использовать\n",
    "\n",
    "isinstance(a, float)"
   ]
  },
  {
   "cell_type": "code",
   "execution_count": 34,
   "metadata": {},
   "outputs": [
    {
     "data": {
      "text/plain": [
       "False"
      ]
     },
     "execution_count": 34,
     "metadata": {},
     "output_type": "execute_result"
    }
   ],
   "source": [
    "isinstance(a, int)"
   ]
  }
 ],
 "metadata": {
  "interpreter": {
   "hash": "aee8b7b246df8f9039afb4144a1f6fd8d2ca17a180786b69acc140d282b71a49"
  },
  "kernelspec": {
   "display_name": "Python 3.9.7 64-bit",
   "language": "python",
   "name": "python3"
  },
  "language_info": {
   "codemirror_mode": {
    "name": "ipython",
    "version": 3
   },
   "file_extension": ".py",
   "mimetype": "text/x-python",
   "name": "python",
   "nbconvert_exporter": "python",
   "pygments_lexer": "ipython3",
   "version": "3.9.7"
  },
  "orig_nbformat": 4
 },
 "nbformat": 4,
 "nbformat_minor": 2
}
