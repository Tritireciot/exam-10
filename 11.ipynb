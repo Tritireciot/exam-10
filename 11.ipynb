{
 "cells": [
  {
   "cell_type": "markdown",
   "metadata": {},
   "source": [
    "## 11й вопрос\n",
    "**Работа со строками. Стандартные функции, методы. На примере изученных языков программирования.**"
   ]
  },
  {
   "cell_type": "code",
   "execution_count": 1,
   "metadata": {},
   "outputs": [
    {
     "data": {
      "text/plain": [
       "True"
      ]
     },
     "execution_count": 1,
     "metadata": {},
     "output_type": "execute_result"
    }
   ],
   "source": [
    "string = \"this is string\"\n",
    "string1 = \"this \" + \"is \" + \"string\"\n",
    "string == string1"
   ]
  },
  {
   "cell_type": "code",
   "execution_count": 8,
   "metadata": {},
   "outputs": [
    {
     "name": "stdout",
     "output_type": "stream",
     "text": [
      "this\n",
      "this string\n",
      "is\n"
     ]
    }
   ],
   "source": [
    "print(string[:4])\n",
    "print(string[:4] + string[7:])\n",
    "print(string[5:7])"
   ]
  },
  {
   "cell_type": "code",
   "execution_count": 14,
   "metadata": {},
   "outputs": [
    {
     "name": "stdout",
     "output_type": "stream",
     "text": [
      "14\n",
      "This is string\n",
      "True\n",
      "['this', 'is', 'string']\n"
     ]
    }
   ],
   "source": [
    "print(len(string))\n",
    "print(string.capitalize())\n",
    "print(string.islower())\n",
    "print(string.split())"
   ]
  },
  {
   "cell_type": "code",
   "execution_count": 23,
   "metadata": {},
   "outputs": [
    {
     "name": "stdout",
     "output_type": "stream",
     "text": [
      "some text\n",
      "d b b d a c\n",
      "True\n",
      "7\n",
      "2\n"
     ]
    }
   ],
   "source": [
    "print(\" some text    \".strip()) # kind of magic\n",
    "print(\"a b b a a c\".replace(\"a\", \"d\", 2))\n",
    "print(\"aba rsl\".startswith(\"aba\"))\n",
    "print(\" so    os\".find(\"os\"))\n",
    "print(\" sidi verno\".count(\"i\"))"
   ]
  },
  {
   "cell_type": "code",
   "execution_count": null,
   "metadata": {},
   "outputs": [],
   "source": []
  }
 ],
 "metadata": {
  "interpreter": {
   "hash": "e7370f93d1d0cde622a1f8e1c04877d8463912d04d973331ad4851f04de6915a"
  },
  "kernelspec": {
   "display_name": "Python 3.10.4 64-bit",
   "language": "python",
   "name": "python3"
  },
  "language_info": {
   "codemirror_mode": {
    "name": "ipython",
    "version": 3
   },
   "file_extension": ".py",
   "mimetype": "text/x-python",
   "name": "python",
   "nbconvert_exporter": "python",
   "pygments_lexer": "ipython3",
   "version": "3.10.4"
  },
  "orig_nbformat": 4
 },
 "nbformat": 4,
 "nbformat_minor": 2
}
