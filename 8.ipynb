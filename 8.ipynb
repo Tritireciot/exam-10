{
 "cells": [
  {
   "cell_type": "markdown",
   "metadata": {},
   "source": [
    "## 8й вопрос\n",
    "\n",
    "**Подпрограммы/Функции. Определение. Вызов. Передача параметров по значению и по ссылке. Формальные и фактические параметры. Параметры по умолчанию.  На примере изученных языков программирования.**\n"
   ]
  },
  {
   "cell_type": "code",
   "execution_count": 9,
   "metadata": {},
   "outputs": [
    {
     "name": "stdout",
     "output_type": "stream",
     "text": [
      "((1, 2, 3), 'this is key argument', 'default')\n"
     ]
    }
   ],
   "source": [
    "# функция в питоне задается ключевым словом def\n",
    "def name_of_function(args: tuple, kwargs: str, kwargs_with_default = \"default\"):\n",
    "    \"body of function\"\n",
    "    return (args, kwargs, kwargs_with_default)\n",
    "\n",
    "print(name_of_function((1, 2, 3), kwargs=\"this is key argument\"))"
   ]
  },
  {
   "cell_type": "markdown",
   "metadata": {},
   "source": [
    "В функции сначала задаются безымянные параметры (`a, b`), потом множественные безымянные параметры (`*args`) в формате `tuple()`, ключевые параметры со значениями по умолчанию (`k=3, c=2`), затем множественные ключевые параметры (`**kwargs`) в формате `dict()`"
   ]
  },
  {
   "cell_type": "code",
   "execution_count": 11,
   "metadata": {},
   "outputs": [],
   "source": [
    "def fed(a, b, *args, k=3, c=2, **kwargs):\n",
    "    pass"
   ]
  },
  {
   "cell_type": "markdown",
   "metadata": {},
   "source": [
    "Короче что-то передается ссылками, что-то копиями по умолчанию. Все типы я расписывать не буду, это какая-то дичь"
   ]
  }
 ],
 "metadata": {
  "interpreter": {
   "hash": "e7370f93d1d0cde622a1f8e1c04877d8463912d04d973331ad4851f04de6915a"
  },
  "kernelspec": {
   "display_name": "Python 3.10.4 64-bit",
   "language": "python",
   "name": "python3"
  },
  "language_info": {
   "codemirror_mode": {
    "name": "ipython",
    "version": 3
   },
   "file_extension": ".py",
   "mimetype": "text/x-python",
   "name": "python",
   "nbconvert_exporter": "python",
   "pygments_lexer": "ipython3",
   "version": "3.10.4"
  },
  "orig_nbformat": 4
 },
 "nbformat": 4,
 "nbformat_minor": 2
}
