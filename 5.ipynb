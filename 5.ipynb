{
 "cells": [
  {
   "cell_type": "markdown",
   "metadata": {},
   "source": [
    "## 5й вопрос\n",
    "\n",
    "**Циклы. Виды циклов. На примере изученных языков программирования.**"
   ]
  },
  {
   "cell_type": "markdown",
   "metadata": {},
   "source": [
    "Циклы используются для повторения одного и того же участка какое-то количество раз или до того, как изменится какое-то условие"
   ]
  },
  {
   "cell_type": "markdown",
   "metadata": {},
   "source": [
    "### For"
   ]
  },
  {
   "cell_type": "code",
   "execution_count": 3,
   "metadata": {},
   "outputs": [
    {
     "name": "stdout",
     "output_type": "stream",
     "text": [
      "-1\n",
      "2\n",
      "3\n"
     ]
    }
   ],
   "source": [
    "# что такое iterable\n",
    "\n",
    "a = [1, 2, 3] # а это любой объект (переменная) по которому можно проходится \n",
    "\n",
    "for var in a: print(var) if var > 1 else print(-1)"
   ]
  },
  {
   "cell_type": "code",
   "execution_count": 7,
   "metadata": {},
   "outputs": [
    {
     "name": "stdout",
     "output_type": "stream",
     "text": [
      "Четные числа:\n",
      "0 2 4 6 8 "
     ]
    }
   ],
   "source": [
    "print(\"Четные числа:\")\n",
    "for i in range(10):\n",
    "    if i % 2 == 0:\n",
    "        print(i, end = \" \")"
   ]
  },
  {
   "cell_type": "code",
   "execution_count": 9,
   "metadata": {},
   "outputs": [
    {
     "name": "stdout",
     "output_type": "stream",
     "text": [
      "0) test\n",
      "1) 32\n",
      "2) {'another': 'test'}\n"
     ]
    }
   ],
   "source": [
    "lst = [\"test\", 32, {\"another\": \"test\"}]\n",
    "\n",
    "for i, var in enumerate(lst):\n",
    "    print(f\"{i}) {var}\")"
   ]
  },
  {
   "cell_type": "code",
   "execution_count": 10,
   "metadata": {},
   "outputs": [
    {
     "name": "stdout",
     "output_type": "stream",
     "text": [
      "key1: 1\n",
      "k2: var2\n"
     ]
    }
   ],
   "source": [
    "dct = {\n",
    "    \"key1\": 1,\n",
    "    \"k2\": \"var2\"\n",
    "}\n",
    "\n",
    "for key, variable in dct.items(): # можно также испольховать по отдельности .keys() и .values()\n",
    "    print(f\"{key}: {variable}\")"
   ]
  },
  {
   "cell_type": "markdown",
   "metadata": {},
   "source": [
    "### While"
   ]
  },
  {
   "cell_type": "code",
   "execution_count": 14,
   "metadata": {},
   "outputs": [
    {
     "name": "stdout",
     "output_type": "stream",
     "text": [
      "2\n",
      "1\n"
     ]
    }
   ],
   "source": [
    "b = 2\n",
    "\n",
    "while b:\n",
    "    print(b)\n",
    "    b -= 1"
   ]
  },
  {
   "cell_type": "code",
   "execution_count": 16,
   "metadata": {},
   "outputs": [
    {
     "name": "stdout",
     "output_type": "stream",
     "text": [
      "4\n",
      "2\n"
     ]
    }
   ],
   "source": [
    "c = 5\n",
    "\n",
    "while c:\n",
    "    c -= 1\n",
    "    if c == 3:\n",
    "        continue\n",
    "    print(c)\n",
    "    if c == 2:\n",
    "        break"
   ]
  },
  {
   "cell_type": "code",
   "execution_count": null,
   "metadata": {},
   "outputs": [],
   "source": []
  }
 ],
 "metadata": {
  "interpreter": {
   "hash": "aee8b7b246df8f9039afb4144a1f6fd8d2ca17a180786b69acc140d282b71a49"
  },
  "kernelspec": {
   "display_name": "Python 3.9.7 64-bit",
   "language": "python",
   "name": "python3"
  },
  "language_info": {
   "codemirror_mode": {
    "name": "ipython",
    "version": 3
   },
   "file_extension": ".py",
   "mimetype": "text/x-python",
   "name": "python",
   "nbconvert_exporter": "python",
   "pygments_lexer": "ipython3",
   "version": "3.9.7"
  },
  "orig_nbformat": 4
 },
 "nbformat": 4,
 "nbformat_minor": 2
}
