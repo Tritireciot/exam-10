{
 "cells": [
  {
   "cell_type": "markdown",
   "metadata": {},
   "source": [
    "## 1й вопрос\n",
    "\n",
    "**Алфавит языка. Идентификаторы (правила построения). Структура программы. На примере изученных языков программирования.**"
   ]
  },
  {
   "cell_type": "markdown",
   "metadata": {},
   "source": [
    "### Алфавит языка\n",
    "\n",
    "в гугле по этому вопросу вы найдете что алфавитом является от a-z (маленькие и большие) для переменных (но это кринж)\n"
   ]
  },
  {
   "cell_type": "code",
   "execution_count": 5,
   "metadata": {},
   "outputs": [],
   "source": [
    "a = 1\n",
    "ы = \"2\"\n",
    "я = 3"
   ]
  },
  {
   "cell_type": "markdown",
   "metadata": {},
   "source": [
    "и ошибок нет, так что фиг знает что здесь говорить)\n",
    "\n"
   ]
  },
  {
   "cell_type": "markdown",
   "metadata": {},
   "source": [
    "Специальные слова (Идентификаторы, Структура программы)"
   ]
  },
  {
   "cell_type": "code",
   "execution_count": 9,
   "metadata": {},
   "outputs": [],
   "source": [
    "def function_name(arguments):\n",
    "    \"code here\"\n",
    "    pass\n",
    "\n",
    "\n",
    "if \"выражение для вхождения в if\":\n",
    "    \"code here\"\n",
    "    pass\n",
    "elif \"выражение для вхождения в if\":\n",
    "    \"code here\"\n",
    "    pass\n",
    "else:\n",
    "    \"code here\"\n",
    "    pass\n",
    "\n",
    "iterable = [] or filter(None, []) or (None,)\n",
    "for var in iterable:\n",
    "    \"code here\"\n",
    "    pass\n",
    "\n",
    "# короче как я понял вот такую штуку описать надо, но вопрос странный конечно"
   ]
  },
  {
   "cell_type": "code",
   "execution_count": null,
   "metadata": {},
   "outputs": [],
   "source": []
  }
 ],
 "metadata": {
  "interpreter": {
   "hash": "aee8b7b246df8f9039afb4144a1f6fd8d2ca17a180786b69acc140d282b71a49"
  },
  "kernelspec": {
   "display_name": "Python 3.9.7 64-bit",
   "language": "python",
   "name": "python3"
  },
  "language_info": {
   "codemirror_mode": {
    "name": "ipython",
    "version": 3
   },
   "file_extension": ".py",
   "mimetype": "text/x-python",
   "name": "python",
   "nbconvert_exporter": "python",
   "pygments_lexer": "ipython3",
   "version": "3.9.7"
  },
  "orig_nbformat": 4
 },
 "nbformat": 4,
 "nbformat_minor": 2
}
