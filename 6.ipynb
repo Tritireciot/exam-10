{
 "cells": [
  {
   "cell_type": "markdown",
   "metadata": {},
   "source": [
    "## 6й вопрос\n",
    "\n",
    "**Одномерные массивы/списки. Передача массивов в подпрограммы.  На примере изученных языков программирования.**\n"
   ]
  },
  {
   "cell_type": "code",
   "execution_count": 1,
   "metadata": {},
   "outputs": [],
   "source": [
    "a = [2, 3, 2, 4, 2] \n",
    "\n",
    "lst = [\"в питоне\", 43, {\"список\": \"может содержать\"}, (\"любые\", \"типы\"), 10.3]"
   ]
  },
  {
   "cell_type": "code",
   "execution_count": 4,
   "metadata": {},
   "outputs": [
    {
     "name": "stdout",
     "output_type": "stream",
     "text": [
      "в питоне 34 {'список': 'может содержать'} ('любые', 'типы') 10.3\n"
     ]
    }
   ],
   "source": [
    "def podprogramma(inp):\n",
    "    inp[1] = 34\n",
    "\n",
    "podprogramma(lst) # передается ссылка на список (т.е. при изменении в функции, изменяется и вне нее)\n",
    "print(*lst) # * это распаковка"
   ]
  },
  {
   "cell_type": "code",
   "execution_count": 6,
   "metadata": {},
   "outputs": [
    {
     "name": "stdout",
     "output_type": "stream",
     "text": [
      "в питоне 42 {'список': 'может содержать'} ('любые', 'типы') 10.3\n"
     ]
    }
   ],
   "source": [
    "# передача копии\n",
    "lst[1] = 42\n",
    "podprogramma(lst.copy()) # передаем копию списка\n",
    "print(*lst)"
   ]
  }
 ],
 "metadata": {
  "interpreter": {
   "hash": "aee8b7b246df8f9039afb4144a1f6fd8d2ca17a180786b69acc140d282b71a49"
  },
  "kernelspec": {
   "display_name": "Python 3.9.7 64-bit",
   "language": "python",
   "name": "python3"
  },
  "language_info": {
   "codemirror_mode": {
    "name": "ipython",
    "version": 3
   },
   "file_extension": ".py",
   "mimetype": "text/x-python",
   "name": "python",
   "nbconvert_exporter": "python",
   "pygments_lexer": "ipython3",
   "version": "3.9.7"
  },
  "orig_nbformat": 4
 },
 "nbformat": 4,
 "nbformat_minor": 2
}
