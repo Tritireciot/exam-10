{
 "cells": [
  {
   "cell_type": "markdown",
   "metadata": {},
   "source": [
    "## 4й вопрос\n",
    "\n",
    "**Организация ветвлений в программах. Условные операторы. Оператор выбора. На примере изученных языков программирования.**"
   ]
  },
  {
   "cell_type": "markdown",
   "metadata": {},
   "source": [
    "#### Организация ветвлений в программах."
   ]
  },
  {
   "cell_type": "code",
   "execution_count": 1,
   "metadata": {},
   "outputs": [
    {
     "name": "stdout",
     "output_type": "stream",
     "text": [
      "a equals 3\n"
     ]
    }
   ],
   "source": [
    "# типо написать про ифы\n",
    "\n",
    "a = 3\n",
    "\n",
    "if a == 3:\n",
    "    print(\"a equals 3\")\n",
    "elif a == 2:\n",
    "    print(\"a equals 3\")\n",
    "else:\n",
    "    if isinstance(a, int):\n",
    "        print(\"a not equal to 3 and 2\") \n",
    "    else:\n",
    "        print(\"a not an integer\")"
   ]
  },
  {
   "cell_type": "markdown",
   "metadata": {},
   "source": [
    "### If else"
   ]
  },
  {
   "cell_type": "markdown",
   "metadata": {},
   "source": [
    "я выше описал, лень еще раз писать"
   ]
  },
  {
   "cell_type": "markdown",
   "metadata": {},
   "source": [
    "### Оператор выбора\n",
    "\n",
    "Вообще им является ``switch case`` (точнее match case)\n",
    "Но в питоне он появился только с `3.10` версии. Так что можете про него не рассказывать (тк вряд ли на школьных компах будет 10ка)"
   ]
  },
  {
   "cell_type": "code",
   "execution_count": 4,
   "metadata": {},
   "outputs": [
    {
     "data": {
      "text/plain": [
       "'\\nmatch status:\\n    case 400:\\n        return \"Bad request\"\\n    case 404:\\n        return \"Not found\"\\n    case 418:\\n        return \"I\\'m a teapot\"\\n    case _:\\n        return \"Something\\'s wrong with the internet\"\\n'"
      ]
     },
     "execution_count": 4,
     "metadata": {},
     "output_type": "execute_result"
    }
   ],
   "source": [
    "status = int(input())\n",
    "\"\"\"\n",
    "match status:\n",
    "    case 400:\n",
    "        return \"Bad request\"\n",
    "    case 404:\n",
    "        return \"Not found\"\n",
    "    case 418:\n",
    "        return \"I'm a teapot\"\n",
    "    case _:\n",
    "        return \"Something's wrong with the internet\"\n",
    "\"\"\""
   ]
  }
 ],
 "metadata": {
  "interpreter": {
   "hash": "aee8b7b246df8f9039afb4144a1f6fd8d2ca17a180786b69acc140d282b71a49"
  },
  "kernelspec": {
   "display_name": "Python 3.9.7 64-bit",
   "language": "python",
   "name": "python3"
  },
  "language_info": {
   "codemirror_mode": {
    "name": "ipython",
    "version": 3
   },
   "file_extension": ".py",
   "mimetype": "text/x-python",
   "name": "python",
   "nbconvert_exporter": "python",
   "pygments_lexer": "ipython3",
   "version": "3.9.7"
  },
  "orig_nbformat": 4
 },
 "nbformat": 4,
 "nbformat_minor": 2
}
