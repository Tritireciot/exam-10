{
 "cells": [
  {
   "cell_type": "markdown",
   "metadata": {},
   "source": [
    "## 7й вопрос\n",
    "\n",
    "**Двумерные массивы/вложенные списки. Передача массивов в подпрограммы.  На примере изученных языков программирования.**"
   ]
  },
  {
   "cell_type": "code",
   "execution_count": 2,
   "metadata": {},
   "outputs": [],
   "source": [
    "\"\"\"\n",
    "Вложеный список - список, где элементы являются списками\n",
    "\"\"\"\n",
    "lst = [\n",
    "    [1, 2, 3],\n",
    "    [3, 1, 2],\n",
    "    [2, 3, 1]\n",
    "]"
   ]
  },
  {
   "cell_type": "code",
   "execution_count": 4,
   "metadata": {},
   "outputs": [
    {
     "name": "stdout",
     "output_type": "stream",
     "text": [
      "[3, 1, 2]\n",
      "1\n"
     ]
    }
   ],
   "source": [
    "print(lst[1])\n",
    "print(lst[1][1])"
   ]
  },
  {
   "cell_type": "code",
   "execution_count": 9,
   "metadata": {},
   "outputs": [
    {
     "name": "stdout",
     "output_type": "stream",
     "text": [
      "[2, 2, 3]\n",
      "[3, 2, 2]\n",
      "[2, 3, 2]\n"
     ]
    }
   ],
   "source": [
    "def podprogramma(matrix, x):\n",
    "    for i in range(3):\n",
    "        matrix[i][i] = x\n",
    "\n",
    "podprogramma(lst, 2) # как и при простых списках\n",
    "print(*[lst[i] for i in range(3)], sep=\"\\n\")"
   ]
  },
  {
   "cell_type": "code",
   "execution_count": 10,
   "metadata": {},
   "outputs": [
    {
     "name": "stdout",
     "output_type": "stream",
     "text": [
      "[1, 2, 3]\n",
      "[3, 1, 2]\n",
      "[2, 3, 1]\n"
     ]
    }
   ],
   "source": [
    "podprogramma(lst.copy(), 1) # а почему так происходит?\n",
    "print(*[lst[i] for i in range(3)], sep=\"\\n\")"
   ]
  },
  {
   "cell_type": "code",
   "execution_count": 12,
   "metadata": {},
   "outputs": [
    {
     "name": "stdout",
     "output_type": "stream",
     "text": [
      "[1, 2, 3]\n",
      "[3, 1, 2]\n",
      "[2, 3, 1]\n"
     ]
    }
   ],
   "source": [
    "# давайте разбираться\n",
    "podprogramma([lst[i].copy() for i in range(3)], 3) # передадим копии каждого списка\n",
    "print(*[lst[i] for i in range(3)], sep=\"\\n\") # не изменилось!"
   ]
  },
  {
   "cell_type": "code",
   "execution_count": 13,
   "metadata": {},
   "outputs": [
    {
     "name": "stdout",
     "output_type": "stream",
     "text": [
      "[1, 2, 3]\n",
      "[3, 1, 2]\n",
      "[2, 3, 1]\n"
     ]
    }
   ],
   "source": [
    "# Но если у нас тройная вложенность, надо рекурсию писать?\n",
    "\n",
    "from copy import deepcopy # да вы что это же питон! Здесь уже все есть\n",
    "\n",
    "podprogramma(deepcopy(lst), 3)\n",
    "print(*[lst[i] for i in range(3)], sep=\"\\n\") # работает! кайф"
   ]
  },
  {
   "cell_type": "code",
   "execution_count": null,
   "metadata": {},
   "outputs": [],
   "source": []
  }
 ],
 "metadata": {
  "interpreter": {
   "hash": "aee8b7b246df8f9039afb4144a1f6fd8d2ca17a180786b69acc140d282b71a49"
  },
  "kernelspec": {
   "display_name": "Python 3.9.7 64-bit",
   "language": "python",
   "name": "python3"
  },
  "language_info": {
   "codemirror_mode": {
    "name": "ipython",
    "version": 3
   },
   "file_extension": ".py",
   "mimetype": "text/x-python",
   "name": "python",
   "nbconvert_exporter": "python",
   "pygments_lexer": "ipython3",
   "version": "3.9.7"
  },
  "orig_nbformat": 4
 },
 "nbformat": 4,
 "nbformat_minor": 2
}
