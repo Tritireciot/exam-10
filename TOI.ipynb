{
 "cells": [
  {
   "cell_type": "markdown",
   "metadata": {},
   "source": [
    "## 1ый вопрос\n",
    "\n",
    "**Сложность алгоритма. Понятие о сложности алгоритмов. Примеры алгоритмов разной сложности.**"
   ]
  },
  {
   "cell_type": "markdown",
   "metadata": {},
   "source": [
    "**Сложностью алгоритма** называется количество действий в вычислительном процессе этого алгоритма.\n",
    "\n",
    "Сложность определяет **время** выполнения алгоритма (*основная характеристика*) и **объем памяти**, который алгоритм использует.\n",
    "\n",
    "Примеры: **O(n)** *перебор одномерного массива*, **O(n^2)** *перебор двумерного массива*, **O(log(n))** *бинарный поиск*\n",
    "\n",
    "\n",
    "\n"
   ]
  },
  {
   "cell_type": "markdown",
   "metadata": {},
   "source": [
    "## 2ой вопрос\n",
    "\n",
    "**Линейный алгоритм. Решение задачи о поиске максимальной разности.**"
   ]
  },
  {
   "cell_type": "markdown",
   "metadata": {},
   "source": [
    "**Линейный алгоритм** — набор команд (указаний), выполняемых последовательно во времени друг за другом. Задача фри, ищем max и min, ответ: max – min"
   ]
  },
  {
   "cell_type": "markdown",
   "metadata": {},
   "source": [
    "## 3ий вопрос\n",
    "\n",
    "**Линейный алгоритм. Префиксные суммы. Решение задачи о запросе суммы на отрезке.**\n"
   ]
  },
  {
   "cell_type": "markdown",
   "metadata": {},
   "source": [
    "https://www.youtube.com/watch?v=5iW84xlL0j0&t=585s\n",
    "\n",
    "*Там и понятие и решение задачи*"
   ]
  },
  {
   "cell_type": "markdown",
   "metadata": {},
   "source": [
    "## 4ый вопрос\n",
    "\n",
    "**Линейный поиск. Префиксные суммы. Решение задачи о сумме подряд идущих.**"
   ]
  },
  {
   "cell_type": "code",
   "execution_count": null,
   "metadata": {},
   "outputs": [],
   "source": [
    "a = list(map(int, input().split()))\n",
    "b = [0] * (len(a) + 1)\n",
    "n = int(input())\n",
    "\n",
    "for i in range(len(a)): #заполнение массива префиксных сумм\n",
    "    b[i+1] = b[i] + a[i]\n",
    "\n",
    "max = -99999999\n",
    "for i in range(n,len(b)):\n",
    "    if b[i] - b[i-n] > max:\n",
    "        max = b[i] - b[i-n]\n",
    "print(max)"
   ]
  },
  {
   "cell_type": "markdown",
   "metadata": {},
   "source": [
    "## 5ый вопрос\n",
    "\n",
    "**Линейный поиск. Использование двух указателей. Решение задачи поиска отрезка с максимальной суммой.**"
   ]
  },
  {
   "cell_type": "markdown",
   "metadata": {},
   "source": [
    "https://www.youtube.com/watch?v=o4pIgLe2bqc&t=379s\n",
    "\n",
    "*для понимания*"
   ]
  },
  {
   "cell_type": "code",
   "execution_count": null,
   "metadata": {},
   "outputs": [],
   "source": [
    "a = list(map(int, input().split()))\n",
    "max = -99999999\n",
    "for l in range(len(a)-1):\n",
    "    sum = a[l]\n",
    "    for r in range(l+1,len(a)):\n",
    "        sum += a[r]\n",
    "        if sum > max:\n",
    "            max = sum\n",
    "print(max)\n"
   ]
  },
  {
   "cell_type": "markdown",
   "metadata": {},
   "source": [
    "## 6ой вопрос\n",
    "\n",
    "**Линейный поиск. Метод двух указателей. Отрезок с заданной суммой**"
   ]
  },
  {
   "cell_type": "code",
   "execution_count": null,
   "metadata": {},
   "outputs": [],
   "source": [
    "a = list(map(int, input().split()))\n",
    "n = int(input())\n",
    "resl = 0\n",
    "resr = 1\n",
    "for l in range(len(a)-1):\n",
    "    sum = a[l]\n",
    "    for r in range(l+1,len(a)):\n",
    "        sum += a[r]\n",
    "        if sum == n:\n",
    "            resl = l\n",
    "            resr = r\n",
    "print(resl,resr)\n",
    "# тут еще могут просить найти заданной суммы минимальный/максимальынй, введете max"
   ]
  },
  {
   "cell_type": "markdown",
   "metadata": {},
   "source": [
    "## 7ой и 8ой вопросы\n",
    "\n",
    "**Линейные структуры данных. Стек. Определение и реализация. Стек с поддержкой минимального элемента. Примеры задач, при решении которых можно использовать стек.**"
   ]
  },
  {
   "cell_type": "markdown",
   "metadata": {},
   "source": [
    "**Линейные структуры данных** – это структуры данных, в которых переход от одного элемента данных к другому не зависит от каких-либо логических условий, т.е. в линейных структурах используются лишь безусловные связи элементов.\n",
    "\n",
    "**Примеры:**\n",
    "*Массив*,\n",
    "*Список*,\n",
    "*Связанный список*,\n",
    "*Стек*,\n",
    "*Очередь*,\n",
    "*Хэш-таблица*,\n",
    "*Дек*,\n",
    "*Граф*.\n",
    "\n",
    "**Стек** — абстрактный тип данных, представляющий собой список элементов, организованных по принципу «последним пришёл — первым вышел».\n",
    "Стек в питоне по школьной программе реализуется списком."
   ]
  },
  {
   "cell_type": "code",
   "execution_count": null,
   "metadata": {},
   "outputs": [],
   "source": [
    "stack = []\n",
    "\n",
    "n = int(input())\n",
    "stack.append(n) # аналог push()\n",
    "stack.pop() # сам по себе pop\n",
    "print(len(stack)) #аналог size\n",
    "stack = [] # аналог empty лмао"
   ]
  },
  {
   "cell_type": "markdown",
   "metadata": {},
   "source": [
    "*Реализация стека с поддержкой минимального элемента. Идея в том, чтобы хранить не просто элементы, а пары вида (элемент; минимум в стеке, начиная с этого элемента и ниже)*"
   ]
  },
  {
   "cell_type": "code",
   "execution_count": null,
   "metadata": {},
   "outputs": [],
   "source": [
    "n = int(input())\n",
    "stack = []\n",
    "min = 9999999999\n",
    "for i in range(n):\n",
    "    el = int(input())\n",
    "    if el < min:\n",
    "        min = el\n",
    "    stack.append((el,min))"
   ]
  },
  {
   "cell_type": "markdown",
   "metadata": {},
   "source": [
    "*Пример решения задачи на скобочную последовательность*"
   ]
  },
  {
   "cell_type": "code",
   "execution_count": null,
   "metadata": {},
   "outputs": [],
   "source": [
    "open = '({['\n",
    "close = ')}]'\n",
    "stack = []\n",
    "s = input()\n",
    "check = True\n",
    "for el in s:\n",
    "    if el in open:\n",
    "        stack.append(el)\n",
    "    elif el in close:\n",
    "        if len(stack) > 0:\n",
    "            if close.find(el) == open.find(stack[len(stack)-1]):\n",
    "                stack.pop()\n",
    "            else:\n",
    "                check = False\n",
    "                break\n",
    "        else:\n",
    "            check = False\n",
    "            break\n",
    "if check and len(stack) == 0:\n",
    "    print('Correct')\n",
    "else:\n",
    "    print('Incorrect')\n",
    "# парни если я где-то сиранул, то ломаю шмотки"
   ]
  },
  {
   "cell_type": "markdown",
   "metadata": {},
   "source": [
    "*Пример использования стека при подсчетe значения выражения в постфиксной форме.*"
   ]
  },
  {
   "cell_type": "code",
   "execution_count": null,
   "metadata": {},
   "outputs": [],
   "source": [
    "data = input(\"Введите постфиксное выражение:\").split()\n",
    "stack = []\n",
    "f=1\n",
    "for x in data:\n",
    "    if x in \"+-*/\":\n",
    "        if len(stack)<2:\n",
    "            print(\"ERROR\")\n",
    "            f=0\n",
    "            break\n",
    "        op2 = int(stack.pop())\n",
    "        op1 = int(stack.pop())\n",
    "        if   x == \"+\": res = op1 + op2\n",
    "        elif x == \"-\": res = op1 - op2\n",
    "        elif x == \"*\": res = op1 * op2\n",
    "        else:\n",
    "            res = op1 // op2\n",
    "        stack.append(res)\n",
    "    else:\n",
    "        stack.append(x)\n",
    "\n",
    "if len(stack)==1:\n",
    "    print (stack[0])\n",
    "elif f==1:\n",
    "    print(\"ERROR\")\n",
    "# тут код с киберфорума, но вроде все ок"
   ]
  },
  {
   "cell_type": "markdown",
   "metadata": {},
   "source": [
    "## 9ый вопрос\n",
    "\n",
    "**Линейные структуры данных. Очередь. Определение и возможные реализации.**\n"
   ]
  },
  {
   "cell_type": "markdown",
   "metadata": {},
   "source": [
    "**Очередь** — абстрактный тип данных с дисциплиной доступа к элементам «первый пришёл — первый вышел».\n",
    "\n",
    "Реализуется через список, но также можно реализовать через два стека (*кринж*) (один на вход, другой на выход. При обнулении одного стека, все элементы переносятся во второй) "
   ]
  },
  {
   "cell_type": "code",
   "execution_count": null,
   "metadata": {},
   "outputs": [],
   "source": [
    "queue = []\n",
    "n = int(input())\n",
    "queue.append(n) # аналог push\n",
    "queue = queue[1:] # аналог pop\n",
    "print(len(queue)) # аналог size\n",
    "queue = [] # аналог empty\n"
   ]
  }
 ],
 "metadata": {
  "interpreter": {
   "hash": "67c9398dee904154bf9c50ef3b0c3541f9c2d10ed0a7cf11e30032ae91fa3516"
  },
  "kernelspec": {
   "display_name": "Python 3.9.2 64-bit",
   "language": "python",
   "name": "python3"
  },
  "language_info": {
   "codemirror_mode": {
    "name": "ipython",
    "version": 3
   },
   "file_extension": ".py",
   "mimetype": "text/x-python",
   "name": "python",
   "nbconvert_exporter": "python",
   "pygments_lexer": "ipython3",
   "version": "3.9.2"
  },
  "orig_nbformat": 4
 },
 "nbformat": 4,
 "nbformat_minor": 2
}
